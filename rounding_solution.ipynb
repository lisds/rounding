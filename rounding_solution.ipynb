{
 "cells": [
  {
   "cell_type": "markdown",
   "id": "36088257",
   "metadata": {},
   "source": [
    "# Rounding with Function Calls"
   ]
  },
  {
   "cell_type": "markdown",
   "id": "4a15eee2",
   "metadata": {},
   "source": [
    "These exercises give you practice calling functions in Python."
   ]
  },
  {
   "cell_type": "code",
   "execution_count": 1,
   "id": "3b9fdb88",
   "metadata": {
    "execution": {
     "iopub.execute_input": "2022-11-14T10:09:43.658960Z",
     "iopub.status.busy": "2022-11-14T10:09:43.658414Z",
     "iopub.status.idle": "2022-11-14T10:09:43.764770Z",
     "shell.execute_reply": "2022-11-14T10:09:43.764415Z"
    }
   },
   "outputs": [],
   "source": [
    "# Run this cell to set up the notebook, but please don't change it.\n",
    "# These lines load the tests.\n",
    "from client.api.notebook import Notebook\n",
    "ok = Notebook('rounding.ok')"
   ]
  },
  {
   "cell_type": "markdown",
   "id": "1ac81d95",
   "metadata": {},
   "source": [
    "**Question 1.** Using the function `round`, round the number 1.23456789 to the nearest integer.  Give the result the name `rounded`."
   ]
  },
  {
   "cell_type": "code",
   "execution_count": 2,
   "id": "1e397055",
   "metadata": {
    "execution": {
     "iopub.execute_input": "2022-11-14T10:09:43.767016Z",
     "iopub.status.busy": "2022-11-14T10:09:43.766861Z",
     "iopub.status.idle": "2022-11-14T10:09:43.772471Z",
     "shell.execute_reply": "2022-11-14T10:09:43.772148Z"
    }
   },
   "outputs": [],
   "source": [
    "rounded = round(1.23456789)\n",
    "rounded"
   ]
  },
  {
   "cell_type": "code",
   "execution_count": 3,
   "id": "17d51cce",
   "metadata": {
    "execution": {
     "iopub.execute_input": "2022-11-14T10:09:43.774300Z",
     "iopub.status.busy": "2022-11-14T10:09:43.774146Z",
     "iopub.status.idle": "2022-11-14T10:09:43.786740Z",
     "shell.execute_reply": "2022-11-14T10:09:43.786367Z"
    }
   },
   "outputs": [],
   "source": [
    "_ = ok.grade('q1')"
   ]
  },
  {
   "cell_type": "markdown",
   "id": "c26345f6",
   "metadata": {},
   "source": [
    "**Question 2.** Round 1.23456789 to the nearest *thousandth* (.001).  Put the\n",
    "*result into the variable `less_rounded`.\n",
    "\n",
    "*Hint:* Running `round?` in a code cell will show you Python's documentation for the `round` function."
   ]
  },
  {
   "cell_type": "code",
   "execution_count": 4,
   "id": "9a64a7e0",
   "metadata": {
    "execution": {
     "iopub.execute_input": "2022-11-14T10:09:43.790651Z",
     "iopub.status.busy": "2022-11-14T10:09:43.790509Z",
     "iopub.status.idle": "2022-11-14T10:09:43.793214Z",
     "shell.execute_reply": "2022-11-14T10:09:43.792894Z"
    }
   },
   "outputs": [],
   "source": [
    "less_rounded = round(1.23456789, 3)\n",
    "less_rounded"
   ]
  },
  {
   "cell_type": "code",
   "execution_count": 5,
   "id": "6609cb1b",
   "metadata": {
    "execution": {
     "iopub.execute_input": "2022-11-14T10:09:43.794966Z",
     "iopub.status.busy": "2022-11-14T10:09:43.794822Z",
     "iopub.status.idle": "2022-11-14T10:09:43.801239Z",
     "shell.execute_reply": "2022-11-14T10:09:43.800901Z"
    }
   },
   "outputs": [],
   "source": [
    "_ = ok.grade('q2')"
   ]
  },
  {
   "cell_type": "markdown",
   "id": "753b76f6",
   "metadata": {},
   "source": [
    "Suppose you're counting all the small donations made to a political candidate.  The donations were:\n",
    "\n",
    "* 32.25\n",
    "* 15.00\n",
    "* 24.45\n",
    "\n",
    "You need to report the total rounded to the nearest dollar.\n",
    "\n",
    "**Question 3.** First you decide to round *each donation* individually and then add up those 3 rounded amounts.  Compute that."
   ]
  },
  {
   "cell_type": "code",
   "execution_count": 6,
   "id": "1f4c72ce",
   "metadata": {
    "execution": {
     "iopub.execute_input": "2022-11-14T10:09:43.805340Z",
     "iopub.status.busy": "2022-11-14T10:09:43.805205Z",
     "iopub.status.idle": "2022-11-14T10:09:43.807774Z",
     "shell.execute_reply": "2022-11-14T10:09:43.807479Z"
    }
   },
   "outputs": [],
   "source": [
    "# You probably want something starting: round(32.25) + ...\n",
    "sum_of_rounded_amounts = round(32.25) + round(15.00) + round(24.45)\n",
    "sum_of_rounded_amounts"
   ]
  },
  {
   "cell_type": "code",
   "execution_count": 7,
   "id": "fa5431f5",
   "metadata": {
    "execution": {
     "iopub.execute_input": "2022-11-14T10:09:43.809498Z",
     "iopub.status.busy": "2022-11-14T10:09:43.809358Z",
     "iopub.status.idle": "2022-11-14T10:09:43.815749Z",
     "shell.execute_reply": "2022-11-14T10:09:43.815383Z"
    }
   },
   "outputs": [],
   "source": [
    "_ = ok.grade('q3')"
   ]
  },
  {
   "cell_type": "markdown",
   "id": "85a3a91b",
   "metadata": {},
   "source": [
    "**Question 4.** You suspect this method doesn't work quite right.  To check, you decide to try a different method: Adding up the donations, and then rounding the total.  Compute that."
   ]
  },
  {
   "cell_type": "code",
   "execution_count": 8,
   "id": "343c01ff",
   "metadata": {
    "execution": {
     "iopub.execute_input": "2022-11-14T10:09:43.820264Z",
     "iopub.status.busy": "2022-11-14T10:09:43.820125Z",
     "iopub.status.idle": "2022-11-14T10:09:43.822658Z",
     "shell.execute_reply": "2022-11-14T10:09:43.822329Z"
    }
   },
   "outputs": [],
   "source": [
    "rounded_sum = round(32.25 + 15.00 + 24.45)\n",
    "rounded_sum"
   ]
  },
  {
   "cell_type": "code",
   "execution_count": 9,
   "id": "cd11f422",
   "metadata": {
    "execution": {
     "iopub.execute_input": "2022-11-14T10:09:43.824517Z",
     "iopub.status.busy": "2022-11-14T10:09:43.824374Z",
     "iopub.status.idle": "2022-11-14T10:09:43.830746Z",
     "shell.execute_reply": "2022-11-14T10:09:43.830407Z"
    }
   },
   "outputs": [],
   "source": [
    "_ = ok.grade('q4')"
   ]
  },
  {
   "cell_type": "code",
   "execution_count": 10,
   "id": "8bd870eb",
   "metadata": {
    "execution": {
     "iopub.execute_input": "2022-11-14T10:09:43.835399Z",
     "iopub.status.busy": "2022-11-14T10:09:43.835265Z",
     "iopub.status.idle": "2022-11-14T10:09:43.853688Z",
     "shell.execute_reply": "2022-11-14T10:09:43.853330Z"
    }
   },
   "outputs": [],
   "source": [
    "# For your convenience, you can run this cell to run all the tests at once!\n",
    "import os\n",
    "_ = [ok.grade(q[:-3]) for q in os.listdir(\"tests\") if q.startswith('q')]"
   ]
  }
 ],
 "metadata": {
  "jupytext": {
   "split_at_heading": true,
   "text_representation": {
    "extension": ".Rmd",
    "format_name": "rmarkdown",
    "format_version": "1.2",
    "jupytext_version": "1.10.3"
   }
  },
  "kernelspec": {
   "display_name": "Python 3 (ipykernel)",
   "language": "python",
   "name": "python3"
  },
  "language_info": {
   "codemirror_mode": {
    "name": "ipython",
    "version": 3
   },
   "file_extension": ".py",
   "mimetype": "text/x-python",
   "name": "python",
   "nbconvert_exporter": "python",
   "pygments_lexer": "ipython3",
   "version": "3.10.7"
  }
 },
 "nbformat": 4,
 "nbformat_minor": 5
}
